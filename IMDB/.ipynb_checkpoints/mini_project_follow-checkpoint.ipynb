{
 "cells": [
  {
   "cell_type": "markdown",
   "metadata": {
    "id": "YhOrPTdN56ib"
   },
   "source": [
    "##IMDB Reviews\n",
    "\n",
    "**CAITLIN TAVAS**\n",
    "\n",
    "**Goal:** I will try to grab the IMDB text reviews and determine if they are positive or negative through a neural network and do sigmoid vs linear to see if there are any differences. I'll also compare it to using the logistic regression in scikit learn\n",
    "\n",
    "**Methods:**\n",
    "Closely following this (converting keras to pytorch with some extra changes like dropouts):\n",
    "https://towardsdatascience.com/binary-classification-of-imdb-movie-reviews-648342bc70dd\n",
    "\n",
    "- Data set is IMDB text reviews\n",
    "- Converted to 10000 1s and 0s based on appearances of words in the excerpt\n",
    "- Logistic Regression as a baseline comparison\n",
    "- Converted model in article to pytorch \n",
    "- Added Dropouts\n",
    "\n",
    "- Convoluted Neural Network\n",
    "\n",
    "**Conclusion:** The sigmoid function prints out probabilities and takes in binary values, which is potentially useful when working with certain data sets and when you want to find individual probabilities for large datastets.  "
   ]
  },
  {
   "cell_type": "code",
   "execution_count": 1,
   "metadata": {
    "colab": {
     "base_uri": "https://localhost:8080/"
    },
    "id": "jVPBgpxk5tgx",
    "outputId": "4b63101a-0f78-4224-d68e-b5a804b8d2db"
   },
   "outputs": [
    {
     "name": "stdout",
     "output_type": "stream",
     "text": [
      "Looking in indexes: https://pypi.org/simple, https://us-python.pkg.dev/colab-wheels/public/simple/\n",
      "Requirement already satisfied: portalocker in /usr/local/lib/python3.10/dist-packages (2.7.0)\n"
     ]
    }
   ],
   "source": [
    "import numpy as np, matplotlib.pyplot as plt\n",
    "%matplotlib inline\n",
    "import torch\n",
    "import torch, torch.nn as nn, torch.nn.functional as F, numpy as np\n",
    "#from torchtext import transforms\n",
    "from torch.utils.data import DataLoader\n",
    "from sklearn.metrics import ConfusionMatrixDisplay, confusion_matrix\n",
    "#from torchtext import vocab\n",
    "from torchtext.datasets import IMDB\n",
    "!pip install portalocker\n",
    "import portalocker\n",
    "from collections import Counter\n",
    "import re "
   ]
  },
  {
   "cell_type": "code",
   "execution_count": 2,
   "metadata": {
    "colab": {
     "base_uri": "https://localhost:8080/"
    },
    "id": "YoMdzLTp6Cxe",
    "outputId": "eda85bb2-6e27-49e2-b4e9-57544bf6239a"
   },
   "outputs": [
    {
     "data": {
      "text/plain": [
       "([1, 1],\n",
       " ['I rented I AM CURIOUS-YELLOW from my video store because of all the controversy that surrounded it when it was first released in 1967. I also heard that at first it was seized by U.S. customs if it ever tried to enter this country, therefore being a fan of films considered \"controversial\" I really had to see this for myself.<br /><br />The plot is centered around a young Swedish drama student named Lena who wants to learn everything she can about life. In particular she wants to focus her attentions to making some sort of documentary on what the average Swede thought about certain political issues such as the Vietnam War and race issues in the United States. In between asking politicians and ordinary denizens of Stockholm about their opinions on politics, she has sex with her drama teacher, classmates, and married men.<br /><br />What kills me about I AM CURIOUS-YELLOW is that 40 years ago, this was considered pornographic. Really, the sex and nudity scenes are few and far between, even then it\\'s not shot like some cheaply made porno. While my countrymen mind find it shocking, in reality sex and nudity are a major staple in Swedish cinema. Even Ingmar Bergman, arguably their answer to good old boy John Ford, had sex scenes in his films.<br /><br />I do commend the filmmakers for the fact that any sex shown in the film is shown for artistic purposes rather than just to shock people and make money to be shown in pornographic theaters in America. I AM CURIOUS-YELLOW is a good film for anyone wanting to study the meat and potatoes (no pun intended) of Swedish cinema. But really, this film doesn\\'t have much of a plot.',\n",
       "  '\"I Am Curious: Yellow\" is a risible and pretentious steaming pile. It doesn\\'t matter what one\\'s political views are because this film can hardly be taken seriously on any level. As for the claim that frontal male nudity is an automatic NC-17, that isn\\'t true. I\\'ve seen R-rated films with male nudity. Granted, they only offer some fleeting views, but where are the R-rated films with gaping vulvas and flapping labia? Nowhere, because they don\\'t exist. The same goes for those crappy cable shows: schlongs swinging in the breeze but not a clitoris in sight. And those pretentious indie movies like The Brown Bunny, in which we\\'re treated to the site of Vincent Gallo\\'s throbbing johnson, but not a trace of pink visible on Chloe Sevigny. Before crying (or implying) \"double-standard\" in matters of nudity, the mentally obtuse should take into account one unavoidably obvious anatomical difference between men and women: there are no genitals on display when actresses appears nude, and the same cannot be said for a man. In fact, you generally won\\'t see female genitals in an American film in anything short of porn or explicit erotica. This alleged double-standard is less a double standard than an admittedly depressing ability to come to terms culturally with the insides of women\\'s bodies.'],\n",
       " [1, 1],\n",
       " ['I love sci-fi and am willing to put up with a lot. Sci-fi movies/TV are usually underfunded, under-appreciated and misunderstood. I tried to like this, I really did, but it is to good TV sci-fi as Babylon 5 is to Star Trek (the original). Silly prosthetics, cheap cardboard sets, stilted dialogues, CG that doesn\\'t match the background, and painfully one-dimensional characters cannot be overcome with a \\'sci-fi\\' setting. (I\\'m sure there are those of you out there who think Babylon 5 is good sci-fi TV. It\\'s not. It\\'s clichéd and uninspiring.) While US viewers might like emotion and character development, sci-fi is a genre that does not take itself seriously (cf. Star Trek). It may treat important issues, yet not as a serious philosophy. It\\'s really difficult to care about the characters here as they are not simply foolish, just missing a spark of life. Their actions and reactions are wooden and predictable, often painful to watch. The makers of Earth KNOW it\\'s rubbish as they have to always say \"Gene Roddenberry\\'s Earth...\" otherwise people would not continue watching. Roddenberry\\'s ashes must be turning in their orbit as this dull, cheap, poorly edited (watching it without advert breaks really brings this home) trudging Trabant of a show lumbers into space. Spoiler. So, kill off a main character. And then bring him back as another actor. Jeeez! Dallas all over again.',\n",
       "  \"Worth the entertainment value of a rental, especially if you like action movies. This one features the usual car chases, fights with the great Van Damme kick style, shooting battles with the 40 shell load shotgun, and even terrorist style bombs. All of this is entertaining and competently handled but there is nothing that really blows you away if you've seen your share before.<br /><br />The plot is made interesting by the inclusion of a rabbit, which is clever but hardly profound. Many of the characters are heavily stereotyped -- the angry veterans, the terrified illegal aliens, the crooked cops, the indifferent feds, the bitchy tough lady station head, the crooked politician, the fat federale who looks like he was typecast as the Mexican in a Hollywood movie from the 1940s. All passably acted but again nothing special.<br /><br />I thought the main villains were pretty well done and fairly well acted. By the end of the movie you certainly knew who the good guys were and weren't. There was an emotional lift as the really bad ones got their just deserts. Very simplistic, but then you weren't expecting Hamlet, right? The only thing I found really annoying was the constant cuts to VDs daughter during the last fight scene.<br /><br />Not bad. Not good. Passable 4.\"])"
      ]
     },
     "execution_count": 2,
     "metadata": {},
     "output_type": "execute_result"
    }
   ],
   "source": [
    "train_iter, test_iter = IMDB(root='.data')\n",
    "\n",
    "# 2 = good, 1 = bad\n",
    "x_train_targets = []\n",
    "x_train_text = []\n",
    "\n",
    "x_test_targets = []\n",
    "x_test_text = []\n",
    "\n",
    "for label, line in train_iter:\n",
    "  x_train_targets.append(label)\n",
    "  x_train_text.append(line)\n",
    "\n",
    "for label, line in test_iter:\n",
    "  x_test_targets.append(label)\n",
    "  x_test_text.append(line)\n",
    "\n",
    "x_train_targets[:2], x_train_text[:2], x_test_targets[:2], x_test_text[:2]"
   ]
  },
  {
   "cell_type": "code",
   "execution_count": 3,
   "metadata": {
    "id": "4xqeLh9v6MhM"
   },
   "outputs": [],
   "source": [
    "def words(txt): return re.findall(r\"['\\w]+\", txt.lower())\n",
    "\n",
    "all_words = Counter()\n",
    "\n",
    "for txt in x_train_text:\n",
    "    for w in set(words(txt)): all_words[w] += 1\n"
   ]
  },
  {
   "cell_type": "code",
   "execution_count": 4,
   "metadata": {
    "colab": {
     "base_uri": "https://localhost:8080/"
    },
    "id": "kDpS1HjaEtF5",
    "outputId": "52921adc-6427-40e7-83e9-c352f0a6d266"
   },
   "outputs": [
    {
     "name": "stdout",
     "output_type": "stream",
     "text": [
      "25000\n",
      "X_train_data shape: (25000, 10000)\n",
      "some entries: [[1. 1. 1. ... 0. 0. 0.]\n",
      " [1. 1. 0. ... 0. 0. 0.]\n",
      " [1. 1. 1. ... 0. 0. 0.]\n",
      " [1. 1. 1. ... 0. 0. 0.]]\n",
      "X_test_data shape: (25000, 10000)\n",
      "some entries: [[1. 1. 1. ... 0. 0. 0.]\n",
      " [1. 1. 1. ... 0. 0. 0.]\n",
      " [1. 1. 1. ... 0. 0. 0.]\n",
      " [1. 1. 1. ... 0. 0. 0.]]\n"
     ]
    }
   ],
   "source": [
    "#ps2 - vectorizing\n",
    "\n",
    "Nf = 10000\n",
    "vocab = sorted(all_words, key=all_words.get, reverse=True)[:Nf]\n",
    "word_index = {w:k for k,w in enumerate(vocab)}\n",
    "set_vocab = set(vocab)\n",
    "\n",
    "def features(txt):\n",
    "    f = np.zeros(Nf)\n",
    "    for w in set(words(txt)) & set_vocab: f[word_index[w]] = 1\n",
    "    return f  \n",
    "\n",
    "alltext = x_train_text\n",
    "print(len(alltext))\n",
    "\n",
    "X_train_data = np.array([features(txt) for txt in alltext])\n",
    "\n",
    "print(\"X_train_data shape:\", X_train_data.shape)\n",
    "print(\"some entries:\", X_train_data[1:5])\n",
    "\n",
    "X_test_data = np.array([features(txt) for txt in x_test_text])\n",
    "print(\"X_test_data shape:\", X_test_data.shape)\n",
    "print(\"some entries:\", X_test_data[1:5])"
   ]
  },
  {
   "cell_type": "markdown",
   "metadata": {
    "id": "Ax45V3m0Gqa3"
   },
   "source": [
    "### Logistic Regression"
   ]
  },
  {
   "cell_type": "code",
   "execution_count": null,
   "metadata": {
    "colab": {
     "base_uri": "https://localhost:8080/"
    },
    "id": "z5e6ZwBvGo1f",
    "outputId": "c9101c30-dc0e-4e84-afd3-7216d7c4fa7a"
   },
   "outputs": [
    {
     "name": "stderr",
     "output_type": "stream",
     "text": [
      "/usr/local/lib/python3.10/dist-packages/sklearn/linear_model/_logistic.py:458: ConvergenceWarning: lbfgs failed to converge (status=1):\n",
      "STOP: TOTAL NO. of ITERATIONS REACHED LIMIT.\n",
      "\n",
      "Increase the number of iterations (max_iter) or scale the data as shown in:\n",
      "    https://scikit-learn.org/stable/modules/preprocessing.html\n",
      "Please also refer to the documentation for alternative solver options:\n",
      "    https://scikit-learn.org/stable/modules/linear_model.html#logistic-regression\n",
      "  n_iter_i = _check_optimize_result(\n"
     ]
    },
    {
     "name": "stdout",
     "output_type": "stream",
     "text": [
      "training score 0.89364\n",
      "test score 0.87364\n"
     ]
    }
   ],
   "source": [
    "from sklearn.linear_model import LogisticRegression\n",
    "\n",
    "logreg_multi = LogisticRegression(max_iter=10, multi_class='multinomial')\n",
    "logreg_multi.fit(X_train_data, x_train_targets)\n",
    "print('training score', logreg_multi.score(X_train_data, x_train_targets))\n",
    "print('test score', logreg_multi.score(X_test_data, x_test_targets))"
   ]
  },
  {
   "cell_type": "markdown",
   "metadata": {
    "id": "ulq1rduNHtvi"
   },
   "source": [
    "### Basic Sigmoid Function\n",
    "\n",
    "model.add(layers.Dense(16, activation='relu', input_shape=(10000,)))\n",
    "\n",
    "model.add(layers.Dense(16, activation='relu'))\n",
    "\n",
    "model.add(layers.Dense(1, activation='sigmoid'))\n",
    "\n",
    "model.complie(optimizer='rmsprop',\n",
    "              loss = 'binary_crossentropy',\n",
    "              metrics = ['accuracy'])"
   ]
  },
  {
   "cell_type": "code",
   "execution_count": null,
   "metadata": {
    "colab": {
     "base_uri": "https://localhost:8080/"
    },
    "id": "gccrpf-6JNBP",
    "outputId": "5b7017c4-52af-4b21-c0dd-8e2b44a3e11c"
   },
   "outputs": [
    {
     "name": "stderr",
     "output_type": "stream",
     "text": [
      "<ipython-input-5-b167947a4e8d>:5: FutureWarning: The input object of type 'Tensor' is an array-like implementing one of the corresponding protocols (`__array__`, `__array_interface__` or `__array_struct__`); but not a sequence (or 0-D). In the future, this object will be coerced as if it was first converted using `np.array(obj)`. To retain the old behaviour, you have to either modify the type 'Tensor', or assign to an empty array created with `np.empty(correct_shape, dtype=object)`.\n",
      "  print(np.array(train_data).shape)\n",
      "<ipython-input-5-b167947a4e8d>:5: VisibleDeprecationWarning: Creating an ndarray from ragged nested sequences (which is a list-or-tuple of lists-or-tuples-or ndarrays with different lengths or shapes) is deprecated. If you meant to do this, you must specify 'dtype=object' when creating the ndarray.\n",
      "  print(np.array(train_data).shape)\n"
     ]
    },
    {
     "name": "stdout",
     "output_type": "stream",
     "text": [
      "(25000, 2)\n",
      "(25000, 2)\n"
     ]
    },
    {
     "name": "stderr",
     "output_type": "stream",
     "text": [
      "<ipython-input-5-b167947a4e8d>:11: FutureWarning: The input object of type 'Tensor' is an array-like implementing one of the corresponding protocols (`__array__`, `__array_interface__` or `__array_struct__`); but not a sequence (or 0-D). In the future, this object will be coerced as if it was first converted using `np.array(obj)`. To retain the old behaviour, you have to either modify the type 'Tensor', or assign to an empty array created with `np.empty(correct_shape, dtype=object)`.\n",
      "  print(np.array(test_data).shape)\n",
      "<ipython-input-5-b167947a4e8d>:11: VisibleDeprecationWarning: Creating an ndarray from ragged nested sequences (which is a list-or-tuple of lists-or-tuples-or ndarrays with different lengths or shapes) is deprecated. If you meant to do this, you must specify 'dtype=object' when creating the ndarray.\n",
      "  print(np.array(test_data).shape)\n"
     ]
    }
   ],
   "source": [
    "train_data = []\n",
    "for i in range(len(X_train_data)):\n",
    "    train_data.append([torch.tensor(X_train_data[i]), x_train_targets[i]])\n",
    "\n",
    "print(np.array(train_data).shape)\n",
    "\n",
    "test_data = []\n",
    "for i in range(len(X_test_data)):\n",
    "    test_data.append([torch.tensor(X_test_data[i]), x_test_targets[i]])\n",
    "\n",
    "print(np.array(test_data).shape)\n",
    "\n",
    "batch_size = 512\n",
    "\n",
    "train_loader = DataLoader(train_data, batch_size=batch_size, shuffle=True)\n",
    "test_loader = DataLoader(test_data, batch_size=batch_size)"
   ]
  },
  {
   "cell_type": "code",
   "execution_count": null,
   "metadata": {
    "id": "bqgsexl3HpCE"
   },
   "outputs": [],
   "source": [
    "model = nn.Sequential(\n",
    "    nn.Linear(10000, 16),\n",
    "    nn.ReLU(),\n",
    "    nn.Linear(16,1),\n",
    "    nn.ReLU(),\n",
    "    nn.Sigmoid(),\n",
    ")\n",
    "\n",
    "learning_rate = 0.001;\n",
    "optimizer = torch.optim.RMSprop(model.parameters(), lr=learning_rate)\n",
    "loss_fn = nn.BCEWithLogitsLoss()\n",
    "#loss_fn = nn.BCELoss()\n"
   ]
  },
  {
   "cell_type": "code",
   "execution_count": null,
   "metadata": {
    "colab": {
     "base_uri": "https://localhost:8080/"
    },
    "id": "8DmkklHuKNfz",
    "outputId": "17aff4fa-ba14-49e3-b53f-b76a1fc6067f"
   },
   "outputs": [
    {
     "name": "stdout",
     "output_type": "stream",
     "text": [
      "epoch 0\tloss : 0.7181808352470398\t accuracy : 0.50028\n",
      "epoch 2\tloss : 0.7099261283874512\t accuracy : 0.50052\n",
      "epoch 4\tloss : 0.6809194087982178\t accuracy : 0.88528\n",
      "epoch 6\tloss : 0.6762633919715881\t accuracy : 0.89928\n",
      "epoch 8\tloss : 0.670720100402832\t accuracy : 0.91896\n",
      "epoch 10\tloss : 0.6707299947738647\t accuracy : 0.95236\n",
      "epoch 12\tloss : 0.6210106611251831\t accuracy : 0.94264\n",
      "epoch 14\tloss : 0.6481149792671204\t accuracy : 0.96732\n",
      "epoch 16\tloss : 0.6692204475402832\t accuracy : 0.96728\n",
      "epoch 18\tloss : 0.6630949974060059\t accuracy : 0.95312\n"
     ]
    }
   ],
   "source": [
    "epochs = 20\n",
    "#epochs = 700\n",
    "losses = []\n",
    "accur = []\n",
    "for i in range(epochs):\n",
    "  for j,(x,y) in enumerate(train_loader):\n",
    "    \n",
    "    #calculate output\n",
    "    output = model(x.float())\n",
    " \n",
    "    #calculate loss\n",
    "    loss = loss_fn(output,y.reshape(-1,1).float()-1)\n",
    " \n",
    "    #accuracy\n",
    "    #predicted = model(torch.tensor(x_train_text,dtype=torch.float32))\n",
    "#   acc = (predicted.reshape(-1).detach().numpy().round() == y).mean()  \n",
    "    #acc =  sum(x == y for x, y in zip(predicted.reshape(-1).detach().numpy().round(), y_train)) / len(test_data)\n",
    "\n",
    "    #backprop\n",
    "    optimizer.zero_grad()\n",
    "    loss.backward()\n",
    "    optimizer.step()\n",
    "    \n",
    "  if i%2 == 0:\n",
    "    #accuracy\n",
    "    predicted = model(torch.tensor(X_train_data,dtype=torch.float32))\n",
    "    acc = sum((predicted.reshape(-1).detach().numpy().round()+1) == x_train_targets) / len(x_train_targets)\n",
    "    losses.append(loss)\n",
    "    accur.append(acc)\n",
    "    print(\"epoch {}\\tloss : {}\\t accuracy : {}\".format(i,loss,acc))"
   ]
  },
  {
   "cell_type": "code",
   "execution_count": null,
   "metadata": {
    "colab": {
     "base_uri": "https://localhost:8080/"
    },
    "id": "OiVDRqlSP1Gp",
    "outputId": "a68955ed-c4ca-4dac-9f00-58d09218b2ac"
   },
   "outputs": [
    {
     "data": {
      "text/plain": [
       "0.86076"
      ]
     },
     "execution_count": 22,
     "metadata": {},
     "output_type": "execute_result"
    }
   ],
   "source": [
    "test_ac = []\n",
    "\n",
    "predicted = model(torch.tensor(X_test_data,dtype=torch.float32))\n",
    "test_ac = sum((predicted.reshape(-1).detach().numpy().round()+1) == x_test_targets) / len(x_test_targets)\n",
    "\n",
    "test_ac"
   ]
  },
  {
   "cell_type": "code",
   "execution_count": null,
   "metadata": {
    "colab": {
     "base_uri": "https://localhost:8080/",
     "height": 447
    },
    "id": "VsdmI9kLPJmU",
    "outputId": "f23930a8-ea50-470b-bd48-36c01320dede"
   },
   "outputs": [
    {
     "data": {
      "text/plain": [
       "<matplotlib.legend.Legend at 0x7fd85ca3e470>"
      ]
     },
     "execution_count": 19,
     "metadata": {},
     "output_type": "execute_result"
    },
    {
     "data": {
      "image/png": "[encoded data removed]",
      "text/plain": [
       "<Figure size 640x480 with 1 Axes>"
      ]
     },
     "metadata": {},
     "output_type": "display_data"
    }
   ],
   "source": [
    "plt.plot([x.item() for x in losses], label='losses')\n",
    "plt.plot(accur, label='accuracies')\n",
    "plt.legend()"
   ]
  },
  {
   "cell_type": "markdown",
   "metadata": {
    "id": "kA57Q7eQRCkn"
   },
   "source": [
    "Website said that after 3 epochs, there was overfitting so stopping somewhere there will produce a better test accuracy:"
   ]
  },
  {
   "cell_type": "code",
   "execution_count": null,
   "metadata": {
    "colab": {
     "base_uri": "https://localhost:8080/"
    },
    "id": "jJHGVEaBRaKH",
    "outputId": "93e7bf8c-73df-4450-8d71-4ac4a980f3fa"
   },
   "outputs": [
    {
     "name": "stdout",
     "output_type": "stream",
     "text": [
      "epoch 0\tloss : 0.6798725724220276\t accuracy : 0.78652\n",
      "epoch 2\tloss : 0.6685717701911926\t accuracy : 0.89048\n"
     ]
    }
   ],
   "source": [
    "model = nn.Sequential(\n",
    "    nn.Linear(10000, 16),\n",
    "    nn.ReLU(),\n",
    "    nn.Linear(16,1),\n",
    "    nn.ReLU(),\n",
    "    nn.Sigmoid(),\n",
    ")\n",
    "\n",
    "learning_rate = 0.001;\n",
    "optimizer = torch.optim.RMSprop(model.parameters(), lr=learning_rate)\n",
    "loss_fn = nn.BCEWithLogitsLoss()\n",
    "#loss_fn = nn.BCELoss()\n",
    "\n",
    "epochs = 3\n",
    "#epochs = 700\n",
    "losses = []\n",
    "accur = []\n",
    "for i in range(epochs):\n",
    "  for j,(x,y) in enumerate(train_loader):\n",
    "    \n",
    "    #calculate output\n",
    "    output = model(x.float())\n",
    " \n",
    "    #calculate loss\n",
    "    loss = loss_fn(output,y.reshape(-1,1).float()-1)\n",
    " \n",
    "    #accuracy\n",
    "    #predicted = model(torch.tensor(x_train_text,dtype=torch.float32))\n",
    "#   acc = (predicted.reshape(-1).detach().numpy().round() == y).mean()  \n",
    "    #acc =  sum(x == y for x, y in zip(predicted.reshape(-1).detach().numpy().round(), y_train)) / len(test_data)\n",
    "\n",
    "    #backprop\n",
    "    optimizer.zero_grad()\n",
    "    loss.backward()\n",
    "    optimizer.step()\n",
    "    \n",
    "  if i%2 == 0:\n",
    "    #accuracy\n",
    "    predicted = model(torch.tensor(X_train_data,dtype=torch.float32))\n",
    "    acc = sum((predicted.reshape(-1).detach().numpy().round()+1) == x_train_targets) / len(x_train_targets)\n",
    "    losses.append(loss)\n",
    "    accur.append(acc)\n",
    "    print(\"epoch {}\\tloss : {}\\t accuracy : {}\".format(i,loss,acc))"
   ]
  },
  {
   "cell_type": "code",
   "execution_count": null,
   "metadata": {
    "colab": {
     "base_uri": "https://localhost:8080/"
    },
    "id": "4vFHVOlVReRB",
    "outputId": "fb7948fe-78a2-43d5-eee3-923bc65d07d9"
   },
   "outputs": [
    {
     "data": {
      "text/plain": [
       "0.84056"
      ]
     },
     "execution_count": 26,
     "metadata": {},
     "output_type": "execute_result"
    }
   ],
   "source": [
    "test_ac = []\n",
    "\n",
    "predicted = model(torch.tensor(X_test_data,dtype=torch.float32))\n",
    "test_ac = sum((predicted.reshape(-1).detach().numpy().round()+1) == x_test_targets) / len(x_test_targets)\n",
    "\n",
    "test_ac"
   ]
  },
  {
   "cell_type": "markdown",
   "metadata": {
    "id": "OiH1F0qNRtS3"
   },
   "source": [
    "But, doesn't seem to work here, although the accuracy is still pretty high for only 3 epochs::"
   ]
  },
  {
   "cell_type": "markdown",
   "metadata": {
    "id": "SlQEqXlGPtU2"
   },
   "source": [
    "### Trying with DropOuts\n",
    "\n",
    "Tried 20 epochs and then 100 "
   ]
  },
  {
   "cell_type": "code",
   "execution_count": null,
   "metadata": {
    "id": "AsF_oreo5F0e"
   },
   "outputs": [],
   "source": [
    "model = nn.Sequential(\n",
    "    nn.Linear(10000, 16),\n",
    "    nn.ReLU(),\n",
    "    nn.Dropout(.2),\n",
    "\n",
    "    nn.Linear(16,1),\n",
    "    nn.ReLU(),\n",
    "    \n",
    "    nn.Sigmoid(),\n",
    ")\n",
    "\n",
    "learning_rate = 0.001;\n",
    "optimizer = torch.optim.RMSprop(model.parameters(), lr=learning_rate)\n",
    "loss_fn = nn.BCELoss()\n",
    "#loss_fn = nn.BCELoss()"
   ]
  },
  {
   "cell_type": "code",
   "execution_count": null,
   "metadata": {
    "colab": {
     "base_uri": "https://localhost:8080/"
    },
    "id": "LC-V8R6y5IgJ",
    "outputId": "08532c84-ec5a-48ef-9690-18366d80ccd9"
   },
   "outputs": [
    {
     "name": "stdout",
     "output_type": "stream",
     "text": [
      "epoch 0\tloss : 0.5050422549247742\t accuracy : 0.8414\n",
      "epoch 2\tloss : 0.46290069818496704\t accuracy : 0.91232\n",
      "epoch 4\tloss : 0.43730396032333374\t accuracy : 0.95184\n",
      "epoch 6\tloss : 0.42792990803718567\t accuracy : 0.95396\n",
      "epoch 8\tloss : 0.38786780834198\t accuracy : 0.96752\n",
      "epoch 10\tloss : 0.3635936677455902\t accuracy : 0.95512\n",
      "epoch 12\tloss : 0.3780531585216522\t accuracy : 0.96888\n",
      "epoch 14\tloss : 0.37061208486557007\t accuracy : 0.9698\n",
      "epoch 16\tloss : 0.37818193435668945\t accuracy : 0.97756\n",
      "epoch 18\tloss : 0.37661847472190857\t accuracy : 0.98104\n"
     ]
    }
   ],
   "source": [
    "epochs = 20\n",
    "#epochs = 700\n",
    "losses = []\n",
    "accur = []\n",
    "for i in range(epochs):\n",
    "  model.train() #turns on dropout\n",
    "  for j,(x,y) in enumerate(train_loader):\n",
    "    \n",
    "    #calculate output\n",
    "    output = model(x.float())\n",
    " \n",
    "    #calculate loss\n",
    "    loss = loss_fn(output,y.reshape(-1,1).float()-1)\n",
    "\n",
    "    #backprop\n",
    "    optimizer.zero_grad()\n",
    "    loss.backward()\n",
    "    optimizer.step()\n",
    "  model.eval() #turns on dropout\n",
    "\n",
    "  if i%2 == 0:\n",
    "    #accuracy\n",
    "    predicted = model(torch.tensor(X_train_data,dtype=torch.float32))\n",
    "    acc = sum((predicted.reshape(-1).detach().numpy().round()+1) == x_train_targets) / len(x_train_targets)\n",
    "\n",
    "    losses.append(loss)\n",
    "    accur.append(acc)\n",
    "    print(\"epoch {}\\tloss : {}\\t accuracy : {}\".format(i,loss,acc))"
   ]
  },
  {
   "cell_type": "code",
   "execution_count": null,
   "metadata": {
    "colab": {
     "base_uri": "https://localhost:8080/"
    },
    "id": "8UlPU0Z35KvX",
    "outputId": "af529649-0a1d-471a-9883-862278913993"
   },
   "outputs": [
    {
     "data": {
      "text/plain": [
       "0.86844"
      ]
     },
     "execution_count": 24,
     "metadata": {},
     "output_type": "execute_result"
    }
   ],
   "source": [
    "test_ac = []\n",
    "\n",
    "predicted = model(torch.tensor(X_test_data,dtype=torch.float32))\n",
    "test_ac = sum((predicted.reshape(-1).detach().numpy().round()+1) == x_test_targets) / len(x_test_targets)\n",
    "\n",
    "test_ac"
   ]
  },
  {
   "cell_type": "code",
   "execution_count": null,
   "metadata": {
    "colab": {
     "base_uri": "https://localhost:8080/",
     "height": 447
    },
    "id": "EsN3gY015O4M",
    "outputId": "01de2515-f03a-40eb-ea97-9a21c0d09939"
   },
   "outputs": [
    {
     "data": {
      "text/plain": [
       "<matplotlib.legend.Legend at 0x7f5096ca1ba0>"
      ]
     },
     "execution_count": 25,
     "metadata": {},
     "output_type": "execute_result"
    },
    {
     "data": {
      "image/png": "[encoded data removed]",
      "text/plain": [
       "<Figure size 640x480 with 1 Axes>"
      ]
     },
     "metadata": {},
     "output_type": "display_data"
    }
   ],
   "source": [
    "plt.plot([x.item() for x in losses], label='losses')\n",
    "plt.plot(accur, label='accuracies')\n",
    "plt.legend()"
   ]
  },
  {
   "cell_type": "code",
   "execution_count": null,
   "metadata": {
    "id": "Pg2sStqOSpku"
   },
   "outputs": [],
   "source": [
    "model = nn.Sequential(\n",
    "    nn.Linear(10000, 16),\n",
    "    nn.ReLU(),\n",
    "    nn.Dropout(.2),\n",
    "\n",
    "    nn.Linear(16,1),\n",
    "    nn.ReLU(),\n",
    "    \n",
    "    nn.Sigmoid(),\n",
    ")\n",
    "\n",
    "learning_rate = 0.001;\n",
    "optimizer = torch.optim.RMSprop(model.parameters(), lr=learning_rate)\n",
    "loss_fn = nn.BCELoss()\n",
    "#loss_fn = nn.BCELoss()"
   ]
  },
  {
   "cell_type": "code",
   "execution_count": null,
   "metadata": {
    "colab": {
     "base_uri": "https://localhost:8080/"
    },
    "id": "3gdvRU9mQtHe",
    "outputId": "b9452a65-b170-4ea4-de89-552315102bd4"
   },
   "outputs": [
    {
     "name": "stdout",
     "output_type": "stream",
     "text": [
      "epoch 0\tloss : 0.5710519552230835\t accuracy : 0.87824\n",
      "epoch 10\tloss : 0.4148193895816803\t accuracy : 0.969\n",
      "epoch 20\tloss : 0.3608870506286621\t accuracy : 0.97508\n",
      "epoch 30\tloss : 0.3534264862537384\t accuracy : 0.98124\n",
      "epoch 40\tloss : 0.35651761293411255\t accuracy : 0.98096\n",
      "epoch 50\tloss : 0.36938321590423584\t accuracy : 0.98216\n",
      "epoch 60\tloss : 0.37935811281204224\t accuracy : 0.98192\n",
      "epoch 70\tloss : 0.37134528160095215\t accuracy : 0.98268\n",
      "epoch 80\tloss : 0.37956660985946655\t accuracy : 0.98288\n",
      "epoch 90\tloss : 0.361762136220932\t accuracy : 0.98304\n"
     ]
    }
   ],
   "source": [
    "epochs = 100\n",
    "#epochs = 700\n",
    "losses = []\n",
    "accur = []\n",
    "for i in range(epochs):\n",
    "  model.train() #turns on dropout\n",
    "  for j,(x,y) in enumerate(train_loader):\n",
    "    \n",
    "    #calculate output\n",
    "    output = model(x.float())\n",
    " \n",
    "    #calculate loss\n",
    "    loss = loss_fn(output,y.reshape(-1,1).float()-1)\n",
    "\n",
    "    #backprop\n",
    "    optimizer.zero_grad()\n",
    "    loss.backward()\n",
    "    optimizer.step()\n",
    "  model.eval() #turns on dropout\n",
    "\n",
    "  if i%10 == 0:\n",
    "    #accuracy\n",
    "    predicted = model(torch.tensor(X_train_data,dtype=torch.float32))\n",
    "    acc = sum((predicted.reshape(-1).detach().numpy().round()+1) == x_train_targets) / len(x_train_targets)\n",
    "\n",
    "    losses.append(loss)\n",
    "    accur.append(acc)\n",
    "    print(\"epoch {}\\tloss : {}\\t accuracy : {}\".format(i,loss,acc))"
   ]
  },
  {
   "cell_type": "code",
   "execution_count": null,
   "metadata": {
    "colab": {
     "base_uri": "https://localhost:8080/"
    },
    "id": "muK0nDBYTy3r",
    "outputId": "c9778f0f-2604-4b1a-f6d0-845a128d18d7"
   },
   "outputs": [
    {
     "data": {
      "text/plain": [
       "0.84316"
      ]
     },
     "execution_count": 16,
     "metadata": {},
     "output_type": "execute_result"
    }
   ],
   "source": [
    "test_ac = []\n",
    "\n",
    "predicted = model(torch.tensor(X_test_data,dtype=torch.float32))\n",
    "test_ac = sum((predicted.reshape(-1).detach().numpy().round()+1) == x_test_targets) / len(x_test_targets)\n",
    "\n",
    "test_ac"
   ]
  },
  {
   "cell_type": "markdown",
   "metadata": {
    "id": "34rWUYiL3aG7"
   },
   "source": [
    "after a lot of epochs, there turns out to be overfitting "
   ]
  },
  {
   "cell_type": "code",
   "execution_count": null,
   "metadata": {
    "colab": {
     "base_uri": "https://localhost:8080/",
     "height": 447
    },
    "id": "s1K3hzmfUOjW",
    "outputId": "a109f91e-dd34-4be8-f19d-d42335c99d61"
   },
   "outputs": [
    {
     "data": {
      "text/plain": [
       "<matplotlib.legend.Legend at 0x7f5096d1b010>"
      ]
     },
     "execution_count": 17,
     "metadata": {},
     "output_type": "execute_result"
    },
    {
     "data": {
      "image/png": "[encoded data removed]",
      "text/plain": [
       "<Figure size 640x480 with 1 Axes>"
      ]
     },
     "metadata": {},
     "output_type": "display_data"
    }
   ],
   "source": [
    "plt.plot([x.item() for x in losses], label='losses')\n",
    "plt.plot(accur, label='accuracies')\n",
    "plt.legend()"
   ]
  },
  {
   "cell_type": "markdown",
   "metadata": {
    "id": "LnqR8CjxUz0r"
   },
   "source": [
    "### Trying a Linear Model Output\n",
    "\n",
    "To see if there is any difference between sigmoid and Linear Model with 2 outputs(True/False) - but turns out this does not actually run --> the data would need to be in a different format of not 1/0s so this shows an advantage of sigmoid functions depending on the data set, a way to do the linear would be the scalar preprocessing that we have been doing previously in ps7 and ps8\n"
   ]
  },
  {
   "cell_type": "code",
   "execution_count": null,
   "metadata": {
    "id": "rGWVvl0rU7w1"
   },
   "outputs": [],
   "source": [
    "model = nn.Sequential(\n",
    "    nn.Linear(10000, 16),\n",
    "    nn.ReLU(),\n",
    "    nn.Dropout(.2),\n",
    "\n",
    "    nn.Linear(16,2),\n",
    ")\n",
    "\n",
    "learning_rate = 0.001;\n",
    "loss_fn = nn.CrossEntropyLoss()\n",
    "optimizer = torch.optim.Adam(model.parameters(), lr=learning_rate)\n",
    "#optimizer = torch.optim.RMSprop(model.parameters(), lr=learning_rate)\n",
    "#loss_fn = nn.BCEWithLogitsLoss()\n",
    "#loss_fn = nn.BCELoss()"
   ]
  },
  {
   "cell_type": "markdown",
   "metadata": {
    "id": "C1DnGVYDUdK1"
   },
   "source": [
    "### CNN\n",
    "\n",
    "(used to be LSTM but my computer/google colab can't seem to handle it)\n",
    "Decreased vocab size to 1000, 2500, but with slightly more epochs to make up\n",
    "\n",
    "Following code from this website: https://www.kaggle.com/code/arunmohan003/sentiment-analysis-using-lstm-pytorch"
   ]
  },
  {
   "cell_type": "code",
   "execution_count": null,
   "metadata": {
    "colab": {
     "base_uri": "https://localhost:8080/"
    },
    "id": "rNJt947aM7yz",
    "outputId": "75ab0263-5b62-4baa-e4cb-acaca330d7b1"
   },
   "outputs": [
    {
     "name": "stdout",
     "output_type": "stream",
     "text": [
      "25000\n",
      "X_train_data shape: (25000, 2500)\n",
      "some entries: [[1. 1. 1. ... 0. 0. 0.]\n",
      " [1. 1. 0. ... 0. 0. 0.]\n",
      " [1. 1. 1. ... 0. 0. 0.]\n",
      " [1. 1. 1. ... 0. 0. 0.]]\n",
      "X_test_data shape: (25000, 2500)\n",
      "some entries: [[1. 1. 1. ... 0. 0. 0.]\n",
      " [1. 1. 1. ... 0. 0. 0.]\n",
      " [1. 1. 1. ... 0. 0. 0.]\n",
      " [1. 1. 1. ... 0. 0. 0.]]\n"
     ]
    }
   ],
   "source": [
    "Nf = 2500\n",
    "vocab = sorted(all_words, key=all_words.get, reverse=True)[:Nf]\n",
    "word_index = {w:k for k,w in enumerate(vocab)}\n",
    "set_vocab = set(vocab)\n",
    "\n",
    "def features(txt):\n",
    "    f = np.zeros(Nf)\n",
    "    for w in set(words(txt)) & set_vocab: f[word_index[w]] = 1\n",
    "    return f  \n",
    "\n",
    "alltext = x_train_text\n",
    "print(len(alltext))\n",
    "\n",
    "X_train_data = np.array([features(txt) for txt in alltext])\n",
    "\n",
    "print(\"X_train_data shape:\", X_train_data.shape)\n",
    "print(\"some entries:\", X_train_data[1:5])\n",
    "\n",
    "X_test_data = np.array([features(txt) for txt in x_test_text])\n",
    "print(\"X_test_data shape:\", X_test_data.shape)\n",
    "print(\"some entries:\", X_test_data[1:5])"
   ]
  },
  {
   "cell_type": "code",
   "execution_count": null,
   "metadata": {
    "colab": {
     "base_uri": "https://localhost:8080/"
    },
    "id": "7jeGaZFtM8GE",
    "outputId": "ca0781e9-1852-4b54-b3f1-75c3f32abb5e"
   },
   "outputs": [
    {
     "name": "stderr",
     "output_type": "stream",
     "text": [
      "<ipython-input-9-e8d4f2518041>:6: FutureWarning: The input object of type 'Tensor' is an array-like implementing one of the corresponding protocols (`__array__`, `__array_interface__` or `__array_struct__`); but not a sequence (or 0-D). In the future, this object will be coerced as if it was first converted using `np.array(obj)`. To retain the old behaviour, you have to either modify the type 'Tensor', or assign to an empty array created with `np.empty(correct_shape, dtype=object)`.\n",
      "  print(np.array(train_data).shape)\n",
      "<ipython-input-9-e8d4f2518041>:6: VisibleDeprecationWarning: Creating an ndarray from ragged nested sequences (which is a list-or-tuple of lists-or-tuples-or ndarrays with different lengths or shapes) is deprecated. If you meant to do this, you must specify 'dtype=object' when creating the ndarray.\n",
      "  print(np.array(train_data).shape)\n"
     ]
    },
    {
     "name": "stdout",
     "output_type": "stream",
     "text": [
      "(25000, 2)\n",
      "(25000, 2)\n"
     ]
    },
    {
     "name": "stderr",
     "output_type": "stream",
     "text": [
      "<ipython-input-9-e8d4f2518041>:12: FutureWarning: The input object of type 'Tensor' is an array-like implementing one of the corresponding protocols (`__array__`, `__array_interface__` or `__array_struct__`); but not a sequence (or 0-D). In the future, this object will be coerced as if it was first converted using `np.array(obj)`. To retain the old behaviour, you have to either modify the type 'Tensor', or assign to an empty array created with `np.empty(correct_shape, dtype=object)`.\n",
      "  print(np.array(test_data).shape)\n",
      "<ipython-input-9-e8d4f2518041>:12: VisibleDeprecationWarning: Creating an ndarray from ragged nested sequences (which is a list-or-tuple of lists-or-tuples-or ndarrays with different lengths or shapes) is deprecated. If you meant to do this, you must specify 'dtype=object' when creating the ndarray.\n",
      "  print(np.array(test_data).shape)\n"
     ]
    }
   ],
   "source": [
    "#Trying smaller batch size\n",
    "train_data = []\n",
    "for i in range(len(X_train_data)):\n",
    "    train_data.append([torch.tensor(X_train_data[i]), x_train_targets[i]])\n",
    "\n",
    "print(np.array(train_data).shape)\n",
    "\n",
    "test_data = []\n",
    "for i in range(len(X_test_data)):\n",
    "    test_data.append([torch.tensor(X_test_data[i]), x_test_targets[i]])\n",
    "\n",
    "print(np.array(test_data).shape)\n",
    "\n",
    "batch_size = 512\n",
    "\n",
    "train_loader = DataLoader(train_data, batch_size=batch_size, shuffle=True)\n",
    "test_loader = DataLoader(test_data, batch_size=batch_size)"
   ]
  },
  {
   "cell_type": "code",
   "execution_count": null,
   "metadata": {
    "id": "KuYYeSVY9nc0"
   },
   "outputs": [],
   "source": [
    "vocab_size = len(vocab)\n",
    "embedding_dim = 10\n",
    "hidden = 64\n",
    "\n",
    "model = nn.Sequential(\n",
    "    \n",
    "    nn.Embedding(vocab_size, embedding_dim),\n",
    "    nn.Flatten(), \n",
    "    nn.Linear(embedding_dim*vocab_size, hidden),\n",
    "    nn.Dropout(.2),\n",
    "    nn.ReLU(),\n",
    "    \n",
    "    nn.Linear(hidden,1),\n",
    "    \n",
    "    nn.Sigmoid(), \n",
    "\n",
    ")\n",
    "\n",
    "learning_rate = 0.0001;\n",
    "optimizer = torch.optim.RMSprop(model.parameters(), lr=learning_rate)\n",
    "loss_fn = nn.BCELoss()\n",
    "#loss_fn = nn.BCEWithLogitsLoss()"
   ]
  },
  {
   "cell_type": "code",
   "execution_count": null,
   "metadata": {
    "colab": {
     "base_uri": "https://localhost:8080/"
    },
    "id": "EoU_qDP78lci",
    "outputId": "75bdcfc6-179c-4993-8641-2465ef2abde7"
   },
   "outputs": [
    {
     "name": "stdout",
     "output_type": "stream",
     "text": [
      "epoch 0\tloss : 0.6830011010169983\t accuracy : 0.50016\n",
      "epoch 10\tloss : 0.5893664956092834\t accuracy : 0.76052\n",
      "epoch 20\tloss : 0.5280460715293884\t accuracy : 0.82268\n",
      "epoch 30\tloss : 0.49154001474380493\t accuracy : 0.8374\n",
      "epoch 40\tloss : 0.4622304439544678\t accuracy : 0.8522\n"
     ]
    }
   ],
   "source": [
    "epochs = 50\n",
    "#epochs = 700\n",
    "losses = []\n",
    "accur = []\n",
    "for i in range(epochs):\n",
    "  model.train() #turns on dropout\n",
    "  for j,(x,y) in enumerate(train_loader):\n",
    "    \n",
    "    #calculate output\n",
    "    output = model(x.int())\n",
    " \n",
    "    #calculate loss\n",
    "    loss = loss_fn(output,y.reshape(-1,1).float()-1)\n",
    "\n",
    "    #backprop\n",
    "    optimizer.zero_grad()\n",
    "    loss.backward()\n",
    "    optimizer.step()\n",
    "  model.eval() #turns on dropout\n",
    "\n",
    "  if i%10 == 0:\n",
    "    #accuracy\n",
    "    predicted = model(torch.tensor(X_train_data,dtype=torch.int))\n",
    "    acc = sum((predicted.reshape(-1).detach().numpy().round()+1) == x_train_targets) / len(x_train_targets)\n",
    "\n",
    "    losses.append(loss)\n",
    "    accur.append(acc)\n",
    "    print(\"epoch {}\\tloss : {}\\t accuracy : {}\".format(i,loss,acc))"
   ]
  },
  {
   "cell_type": "code",
   "execution_count": null,
   "metadata": {
    "colab": {
     "base_uri": "https://localhost:8080/"
    },
    "id": "lLKHcgWD9lGG",
    "outputId": "8b288064-f416-4560-ac0a-0751504eecdf"
   },
   "outputs": [
    {
     "data": {
      "text/plain": [
       "0.84872"
      ]
     },
     "execution_count": 12,
     "metadata": {},
     "output_type": "execute_result"
    }
   ],
   "source": [
    "test_ac = []\n",
    "\n",
    "predicted = model(torch.tensor(X_test_data,dtype=torch.int))\n",
    "test_ac = sum((predicted.reshape(-1).detach().numpy().round()+1) == x_test_targets) / len(x_test_targets)\n",
    "\n",
    "test_ac"
   ]
  },
  {
   "cell_type": "code",
   "execution_count": null,
   "metadata": {
    "colab": {
     "base_uri": "https://localhost:8080/",
     "height": 447
    },
    "id": "WrIX8Qv_95Wj",
    "outputId": "746c6ac1-4bd5-4025-fff3-8839065c7fd6"
   },
   "outputs": [
    {
     "data": {
      "text/plain": [
       "<matplotlib.legend.Legend at 0x7fd67a957f70>"
      ]
     },
     "execution_count": 13,
     "metadata": {},
     "output_type": "execute_result"
    },
    {
     "data": {
      "image/png": "[encoded data removed]",
      "text/plain": [
       "<Figure size 640x480 with 1 Axes>"
      ]
     },
     "metadata": {},
     "output_type": "display_data"
    }
   ],
   "source": [
    "plt.plot([x.item() for x in losses], label='losses')\n",
    "plt.plot(accur, label='accuracies')\n",
    "plt.legend()"
   ]
  },
  {
   "cell_type": "markdown",
   "metadata": {
    "id": "YZJlwQxDVOBE"
   },
   "source": [
    "At first, when I tried with 1000 features it was only 86% with 100 epochs, so I tried again with 2500 features but only 50 epochs like above, which was surprisingly only 84%. Although my lr was 1/10 of what it was earlier, this model doesn't seem that good. "
   ]
  },
  {
   "cell_type": "markdown",
   "metadata": {
    "id": "nzfwFWuzaB8K"
   },
   "source": [
    "### Trying with Higher LR"
   ]
  },
  {
   "cell_type": "code",
   "execution_count": null,
   "metadata": {
    "id": "434cVxUuaDt1"
   },
   "outputs": [],
   "source": [
    "vocab_size = len(vocab)\n",
    "embedding_dim = 10\n",
    "hidden = 64\n",
    "\n",
    "model = nn.Sequential(\n",
    "    \n",
    "    nn.Embedding(vocab_size, embedding_dim),\n",
    "    nn.Flatten(), \n",
    "    nn.Linear(embedding_dim*vocab_size, hidden),\n",
    "    nn.Dropout(.2),\n",
    "    nn.ReLU(),\n",
    "    \n",
    "    nn.Linear(hidden,1),\n",
    "    \n",
    "    nn.Sigmoid(), \n",
    "\n",
    ")\n",
    "\n",
    "learning_rate = 0.001;\n",
    "optimizer = torch.optim.RMSprop(model.parameters(), lr=learning_rate)\n",
    "loss_fn = nn.BCELoss()\n",
    "#loss_fn = nn.BCEWithLogitsLoss()"
   ]
  },
  {
   "cell_type": "code",
   "execution_count": null,
   "metadata": {
    "colab": {
     "base_uri": "https://localhost:8080/",
     "height": 501
    },
    "id": "TE6uEBE7amAQ",
    "outputId": "24bdc469-c4e5-45d2-a05f-8b9a4a084f2a"
   },
   "outputs": [
    {
     "name": "stdout",
     "output_type": "stream",
     "text": [
      "epoch 0\tloss : 51.41509246826172\t accuracy : 0.5\n",
      "epoch 10\tloss : 52.122642517089844\t accuracy : 0.5\n",
      "epoch 20\tloss : 52.122642517089844\t accuracy : 0.5\n",
      "epoch 30\tloss : 49.056602478027344\t accuracy : 0.5\n",
      "epoch 40\tloss : 50.23584747314453\t accuracy : 0.5\n",
      "epoch 50\tloss : 53.30188751220703\t accuracy : 0.5\n"
     ]
    },
    {
     "ename": "KeyboardInterrupt",
     "evalue": "ignored",
     "output_type": "error",
     "traceback": [
      "\u001b[0;31m---------------------------------------------------------------------------\u001b[0m",
      "\u001b[0;31mKeyboardInterrupt\u001b[0m                         Traceback (most recent call last)",
      "\u001b[0;32m<ipython-input-20-b8cc62d49dcb>\u001b[0m in \u001b[0;36m<cell line: 5>\u001b[0;34m()\u001b[0m\n\u001b[1;32m     15\u001b[0m     \u001b[0;31m#backprop\u001b[0m\u001b[0;34m\u001b[0m\u001b[0;34m\u001b[0m\u001b[0m\n\u001b[1;32m     16\u001b[0m     \u001b[0moptimizer\u001b[0m\u001b[0;34m.\u001b[0m\u001b[0mzero_grad\u001b[0m\u001b[0;34m(\u001b[0m\u001b[0;34m)\u001b[0m\u001b[0;34m\u001b[0m\u001b[0;34m\u001b[0m\u001b[0m\n\u001b[0;32m---> 17\u001b[0;31m     \u001b[0mloss\u001b[0m\u001b[0;34m.\u001b[0m\u001b[0mbackward\u001b[0m\u001b[0;34m(\u001b[0m\u001b[0;34m)\u001b[0m\u001b[0;34m\u001b[0m\u001b[0;34m\u001b[0m\u001b[0m\n\u001b[0m\u001b[1;32m     18\u001b[0m     \u001b[0moptimizer\u001b[0m\u001b[0;34m.\u001b[0m\u001b[0mstep\u001b[0m\u001b[0;34m(\u001b[0m\u001b[0;34m)\u001b[0m\u001b[0;34m\u001b[0m\u001b[0;34m\u001b[0m\u001b[0m\n\u001b[1;32m     19\u001b[0m   \u001b[0mmodel\u001b[0m\u001b[0;34m.\u001b[0m\u001b[0meval\u001b[0m\u001b[0;34m(\u001b[0m\u001b[0;34m)\u001b[0m \u001b[0;31m#turns on dropout\u001b[0m\u001b[0;34m\u001b[0m\u001b[0;34m\u001b[0m\u001b[0m\n",
      "\u001b[0;32m/usr/local/lib/python3.10/dist-packages/torch/_tensor.py\u001b[0m in \u001b[0;36mbackward\u001b[0;34m(self, gradient, retain_graph, create_graph, inputs)\u001b[0m\n\u001b[1;32m    485\u001b[0m                 \u001b[0minputs\u001b[0m\u001b[0;34m=\u001b[0m\u001b[0minputs\u001b[0m\u001b[0;34m,\u001b[0m\u001b[0;34m\u001b[0m\u001b[0;34m\u001b[0m\u001b[0m\n\u001b[1;32m    486\u001b[0m             )\n\u001b[0;32m--> 487\u001b[0;31m         torch.autograd.backward(\n\u001b[0m\u001b[1;32m    488\u001b[0m             \u001b[0mself\u001b[0m\u001b[0;34m,\u001b[0m \u001b[0mgradient\u001b[0m\u001b[0;34m,\u001b[0m \u001b[0mretain_graph\u001b[0m\u001b[0;34m,\u001b[0m \u001b[0mcreate_graph\u001b[0m\u001b[0;34m,\u001b[0m \u001b[0minputs\u001b[0m\u001b[0;34m=\u001b[0m\u001b[0minputs\u001b[0m\u001b[0;34m\u001b[0m\u001b[0;34m\u001b[0m\u001b[0m\n\u001b[1;32m    489\u001b[0m         )\n",
      "\u001b[0;32m/usr/local/lib/python3.10/dist-packages/torch/autograd/__init__.py\u001b[0m in \u001b[0;36mbackward\u001b[0;34m(tensors, grad_tensors, retain_graph, create_graph, grad_variables, inputs)\u001b[0m\n\u001b[1;32m    198\u001b[0m     \u001b[0;31m# some Python versions print out the first line of a multi-line function\u001b[0m\u001b[0;34m\u001b[0m\u001b[0;34m\u001b[0m\u001b[0m\n\u001b[1;32m    199\u001b[0m     \u001b[0;31m# calls in the traceback and some print out the last line\u001b[0m\u001b[0;34m\u001b[0m\u001b[0;34m\u001b[0m\u001b[0m\n\u001b[0;32m--> 200\u001b[0;31m     Variable._execution_engine.run_backward(  # Calls into the C++ engine to run the backward pass\n\u001b[0m\u001b[1;32m    201\u001b[0m         \u001b[0mtensors\u001b[0m\u001b[0;34m,\u001b[0m \u001b[0mgrad_tensors_\u001b[0m\u001b[0;34m,\u001b[0m \u001b[0mretain_graph\u001b[0m\u001b[0;34m,\u001b[0m \u001b[0mcreate_graph\u001b[0m\u001b[0;34m,\u001b[0m \u001b[0minputs\u001b[0m\u001b[0;34m,\u001b[0m\u001b[0;34m\u001b[0m\u001b[0;34m\u001b[0m\u001b[0m\n\u001b[1;32m    202\u001b[0m         allow_unreachable=True, accumulate_grad=True)  # Calls into the C++ engine to run the backward pass\n",
      "\u001b[0;31mKeyboardInterrupt\u001b[0m: "
     ]
    }
   ],
   "source": [
    "epochs = 100\n",
    "#epochs = 700\n",
    "losses = []\n",
    "accur = []\n",
    "for i in range(epochs):\n",
    "  model.train() #turns on dropout\n",
    "  for j,(x,y) in enumerate(train_loader):\n",
    "    \n",
    "    #calculate output\n",
    "    output = model(x.int())\n",
    " \n",
    "    #calculate loss\n",
    "    loss = loss_fn(output,y.reshape(-1,1).float()-1)\n",
    "\n",
    "    #backprop\n",
    "    optimizer.zero_grad()\n",
    "    loss.backward()\n",
    "    optimizer.step()\n",
    "  model.eval() #turns on dropout\n",
    "\n",
    "  if i%10 == 0:\n",
    "    #accuracy\n",
    "    predicted = model(torch.tensor(X_train_data,dtype=torch.int))\n",
    "    acc = sum((predicted.reshape(-1).detach().numpy().round()+1) == x_train_targets) / len(x_train_targets)\n",
    "\n",
    "    losses.append(loss)\n",
    "    accur.append(acc)\n",
    "    print(\"epoch {}\\tloss : {}\\t accuracy : {}\".format(i,loss,acc))"
   ]
  },
  {
   "cell_type": "code",
   "execution_count": null,
   "metadata": {
    "colab": {
     "base_uri": "https://localhost:8080/"
    },
    "id": "CnSuWt73aGyb",
    "outputId": "b95b9c85-bc16-402a-8880-ed751df7fa5a"
   },
   "outputs": [
    {
     "data": {
      "text/plain": [
       "0.5"
      ]
     },
     "execution_count": 21,
     "metadata": {},
     "output_type": "execute_result"
    }
   ],
   "source": [
    "test_ac = []\n",
    "\n",
    "predicted = model(torch.tensor(X_test_data,dtype=torch.int))\n",
    "test_ac = sum((predicted.reshape(-1).detach().numpy().round()+1) == x_test_targets) / len(x_test_targets)\n",
    "\n",
    "test_ac"
   ]
  },
  {
   "cell_type": "code",
   "execution_count": null,
   "metadata": {
    "colab": {
     "base_uri": "https://localhost:8080/",
     "height": 447
    },
    "id": "QxdTZ8hPaJqC",
    "outputId": "ab79dfc1-0218-41fa-c5ba-b9e16cf7fd02"
   },
   "outputs": [
    {
     "data": {
      "text/plain": [
       "<matplotlib.legend.Legend at 0x7fd65bba44f0>"
      ]
     },
     "execution_count": 22,
     "metadata": {},
     "output_type": "execute_result"
    },
    {
     "data": {
      "image/png": "[encoded data removed]",
      "text/plain": [
       "<Figure size 640x480 with 1 Axes>"
      ]
     },
     "metadata": {},
     "output_type": "display_data"
    }
   ],
   "source": [
    "plt.plot([x.item() for x in losses], label='losses')\n",
    "plt.plot(accur, label='accuracies')\n",
    "plt.legend()"
   ]
  },
  {
   "cell_type": "markdown",
   "metadata": {
    "id": "RkJ06rPMazpX"
   },
   "source": [
    "But, in this case increasing the learning rate just seems to make the model worse. Overall, the sigmoid function prints out probabilities and takes in binary values, which is potentially useful when working with certain data sets and when you want to find individual probabilities for large datastets.  "
   ]
  },
  {
   "cell_type": "markdown",
   "metadata": {
    "id": "piIRTMwERubw"
   },
   "source": [
    "### Inputting A Review for Glass Onion Using 98% Dropout Model\n",
    "\n",
    "Just trying it on a read world example, and to show that you can get probability of something being positive quickly this way. "
   ]
  },
  {
   "cell_type": "code",
   "execution_count": 5,
   "metadata": {
    "colab": {
     "base_uri": "https://localhost:8080/"
    },
    "id": "ZmxMpdNLSlz4",
    "outputId": "8f88ec16-a965-427b-b515-16c8c3ebd0e5"
   },
   "outputs": [
    {
     "name": "stderr",
     "output_type": "stream",
     "text": [
      "<ipython-input-5-b167947a4e8d>:5: FutureWarning: The input object of type 'Tensor' is an array-like implementing one of the corresponding protocols (`__array__`, `__array_interface__` or `__array_struct__`); but not a sequence (or 0-D). In the future, this object will be coerced as if it was first converted using `np.array(obj)`. To retain the old behaviour, you have to either modify the type 'Tensor', or assign to an empty array created with `np.empty(correct_shape, dtype=object)`.\n",
      "  print(np.array(train_data).shape)\n",
      "<ipython-input-5-b167947a4e8d>:5: VisibleDeprecationWarning: Creating an ndarray from ragged nested sequences (which is a list-or-tuple of lists-or-tuples-or ndarrays with different lengths or shapes) is deprecated. If you meant to do this, you must specify 'dtype=object' when creating the ndarray.\n",
      "  print(np.array(train_data).shape)\n"
     ]
    },
    {
     "name": "stdout",
     "output_type": "stream",
     "text": [
      "(25000, 2)\n",
      "(25000, 2)\n"
     ]
    },
    {
     "name": "stderr",
     "output_type": "stream",
     "text": [
      "<ipython-input-5-b167947a4e8d>:11: FutureWarning: The input object of type 'Tensor' is an array-like implementing one of the corresponding protocols (`__array__`, `__array_interface__` or `__array_struct__`); but not a sequence (or 0-D). In the future, this object will be coerced as if it was first converted using `np.array(obj)`. To retain the old behaviour, you have to either modify the type 'Tensor', or assign to an empty array created with `np.empty(correct_shape, dtype=object)`.\n",
      "  print(np.array(test_data).shape)\n",
      "<ipython-input-5-b167947a4e8d>:11: VisibleDeprecationWarning: Creating an ndarray from ragged nested sequences (which is a list-or-tuple of lists-or-tuples-or ndarrays with different lengths or shapes) is deprecated. If you meant to do this, you must specify 'dtype=object' when creating the ndarray.\n",
      "  print(np.array(test_data).shape)\n"
     ]
    }
   ],
   "source": [
    "train_data = []\n",
    "for i in range(len(X_train_data)):\n",
    "    train_data.append([torch.tensor(X_train_data[i]), x_train_targets[i]])\n",
    "\n",
    "print(np.array(train_data).shape)\n",
    "\n",
    "test_data = []\n",
    "for i in range(len(X_test_data)):\n",
    "    test_data.append([torch.tensor(X_test_data[i]), x_test_targets[i]])\n",
    "\n",
    "print(np.array(test_data).shape)\n",
    "\n",
    "batch_size = 512\n",
    "\n",
    "train_loader = DataLoader(train_data, batch_size=batch_size, shuffle=True)\n",
    "test_loader = DataLoader(test_data, batch_size=batch_size)"
   ]
  },
  {
   "cell_type": "code",
   "execution_count": 16,
   "metadata": {
    "id": "P-a9130mRtNX"
   },
   "outputs": [],
   "source": [
    "model = nn.Sequential(\n",
    "    nn.Linear(10000, 16),\n",
    "    nn.ReLU(),\n",
    "    nn.Dropout(.2),\n",
    "\n",
    "    nn.Linear(16,1),\n",
    "    nn.ReLU(),\n",
    "    \n",
    "    nn.Sigmoid(),\n",
    ")\n",
    "\n",
    "learning_rate = 0.001;\n",
    "optimizer = torch.optim.RMSprop(model.parameters(), lr=learning_rate)\n",
    "loss_fn = nn.BCELoss()\n",
    "#loss_fn = nn.BCELoss()"
   ]
  },
  {
   "cell_type": "code",
   "execution_count": 17,
   "metadata": {
    "colab": {
     "base_uri": "https://localhost:8080/"
    },
    "id": "0Imm6MGqSqEv",
    "outputId": "f434a91a-26ec-4308-dbd6-a42f047d8a5a"
   },
   "outputs": [
    {
     "name": "stdout",
     "output_type": "stream",
     "text": [
      "epoch 0\tloss : 0.5205571055412292\t accuracy : 0.84148\n",
      "epoch 2\tloss : 0.45731019973754883\t accuracy : 0.91408\n",
      "epoch 4\tloss : 0.4489428699016571\t accuracy : 0.93396\n",
      "epoch 6\tloss : 0.42459920048713684\t accuracy : 0.95524\n",
      "epoch 8\tloss : 0.42124927043914795\t accuracy : 0.96796\n",
      "epoch 10\tloss : 0.3885781764984131\t accuracy : 0.96292\n",
      "epoch 12\tloss : 0.38505420088768005\t accuracy : 0.96992\n",
      "epoch 14\tloss : 0.3798503279685974\t accuracy : 0.9764\n",
      "epoch 16\tloss : 0.354875773191452\t accuracy : 0.97068\n",
      "epoch 18\tloss : 0.3777032792568207\t accuracy : 0.98104\n"
     ]
    }
   ],
   "source": [
    "epochs = 20\n",
    "#epochs = 700\n",
    "losses = []\n",
    "accur = []\n",
    "for i in range(epochs):\n",
    "  model.train() #turns on dropout\n",
    "  for j,(x,y) in enumerate(train_loader):\n",
    "    \n",
    "    #calculate output\n",
    "    output = model(x.float())\n",
    " \n",
    "    #calculate loss\n",
    "    loss = loss_fn(output,y.reshape(-1,1).float()-1)\n",
    "\n",
    "    #backprop\n",
    "    optimizer.zero_grad()\n",
    "    loss.backward()\n",
    "    optimizer.step()\n",
    "  model.eval() #turns on dropout\n",
    "\n",
    "  if i%2 == 0:\n",
    "    #accuracy\n",
    "    predicted = model(torch.tensor(X_train_data,dtype=torch.float))\n",
    "    acc = sum((predicted.reshape(-1).detach().numpy().round()+1) == x_train_targets) / len(x_train_targets)\n",
    "\n",
    "    losses.append(loss)\n",
    "    accur.append(acc)\n",
    "    print(\"epoch {}\\tloss : {}\\t accuracy : {}\".format(i,loss,acc))"
   ]
  },
  {
   "cell_type": "code",
   "execution_count": 18,
   "metadata": {
    "colab": {
     "base_uri": "https://localhost:8080/"
    },
    "id": "MOhi7_j9Ve_F",
    "outputId": "7103aa4f-69be-4f04-ad96-a07560de7059"
   },
   "outputs": [
    {
     "name": "stdout",
     "output_type": "stream",
     "text": [
      "glass_vocab shape: (10000,)\n",
      "It seems like many people want to debate whether this movie was better than it's predecessor. It is an interesting discussion, I suppose. You know what there is no debate about, though? Both of them are wildly entertaining. Usually, movie franchises depress me. I don't need 15 different versions of the same thing. I don't need brilliant directors forced to paint by numbers. I don't need every movie to look the same. But if Netflix wants to let Rian Johnson keep making Knives Out movies? Sign me up, baby. The mysteries and misdirection are fun enough on their own, but it is the wit and social satire that make me excited for whatever comes next. Everyone making this movie seemed to have a great time...but I had a better time watching it.\n",
      "Predicted with probability: tensor([0.8162], grad_fn=<SigmoidBackward0>)\n"
     ]
    }
   ],
   "source": [
    "\"8/10 Review - https://www.imdb.com/review/rw8756829/?ref_=tt_urv\"\n",
    "glass_onion_review = \"It seems like many people want to debate whether this movie was better than it's predecessor. It is an interesting discussion, I suppose. You know what there is no debate about, though? Both of them are wildly entertaining. Usually, movie franchises depress me. I don't need 15 different versions of the same thing. I don't need brilliant directors forced to paint by numbers. I don't need every movie to look the same. But if Netflix wants to let Rian Johnson keep making Knives Out movies? Sign me up, baby. The mysteries and misdirection are fun enough on their own, but it is the wit and social satire that make me excited for whatever comes next. Everyone making this movie seemed to have a great time...but I had a better time watching it.\"\n",
    "glass_vocab = np.array(features(glass_onion_review))\n",
    "print(\"glass_vocab shape:\", glass_vocab.shape)\n",
    "\n",
    "predicted = model(torch.tensor(glass_vocab,dtype=torch.float32))\n",
    "\n",
    "print(glass_onion_review)\n",
    "print(\"Predicted with probability:\", predicted)"
   ]
  },
  {
   "cell_type": "code",
   "execution_count": 19,
   "metadata": {
    "colab": {
     "base_uri": "https://localhost:8080/"
    },
    "id": "ktyiBZH9TElR",
    "outputId": "f0fe6447-bd1f-4ac5-bd7a-aa080e144a56"
   },
   "outputs": [
    {
     "name": "stdout",
     "output_type": "stream",
     "text": [
      "glass_vocab shape: (10000,)\n",
      "I liked the first Knives Out a lot because it felt like a warm homage to all those Agatha Christie novels that I like (books and movies): it got an interesting case and setting, a well playing cast, a fine production. Glass Onion is a little different - the story/crime is for sure not that interesting or complex and there is a far stronger emphasis on comedy. One could dare to say that Glass Onion is more of a parody than a \"real\" crime case. The first movie got a straight 8, this one, did entertain me too (despite some lengthy parts) - but compared to the first movie, Glass Onion is for sure a big step in the wrong direction (for my taste) - it reminds me a lot of those mediocre attempts of Kenneth Brannagh's to revive Hercule Poirot. Also I do not like the ending at all, too a certain degree it is just a stupid one. Hopefully, the next one focuses again more on a complex crime case and its build up and last but not least, a real interesting and surprising ending like the first one got.\n",
      "Predicted with probability: tensor([0.9827], grad_fn=<SigmoidBackward0>)\n"
     ]
    }
   ],
   "source": [
    "\"5/10 Review - https://www.imdb.com/review/rw8773532/?ref_=tt_urv\"\n",
    "glass_onion_review = \"I liked the first Knives Out a lot because it felt like a warm homage to all those Agatha Christie novels that I like (books and movies): it got an interesting case and setting, a well playing cast, a fine production. Glass Onion is a little different - the story/crime is for sure not that interesting or complex and there is a far stronger emphasis on comedy. One could dare to say that Glass Onion is more of a parody than a \\\"real\\\" crime case. The first movie got a straight 8, this one, did entertain me too (despite some lengthy parts) - but compared to the first movie, Glass Onion is for sure a big step in the wrong direction (for my taste) - it reminds me a lot of those mediocre attempts of Kenneth Brannagh's to revive Hercule Poirot. Also I do not like the ending at all, too a certain degree it is just a stupid one. Hopefully, the next one focuses again more on a complex crime case and its build up and last but not least, a real interesting and surprising ending like the first one got.\"\n",
    "glass_vocab = np.array(features(glass_onion_review))\n",
    "print(\"glass_vocab shape:\", glass_vocab.shape)\n",
    "\n",
    "predicted = model(torch.tensor(glass_vocab,dtype=torch.float32))\n",
    "\n",
    "print(glass_onion_review)\n",
    "print(\"Predicted with probability:\", predicted)"
   ]
  },
  {
   "cell_type": "code",
   "execution_count": 20,
   "metadata": {
    "colab": {
     "base_uri": "https://localhost:8080/"
    },
    "id": "SFgbOpqyTiSY",
    "outputId": "2376c134-352e-437b-dabf-fc8f15545800"
   },
   "outputs": [
    {
     "name": "stdout",
     "output_type": "stream",
     "text": [
      "glass_vocab shape: (10000,)\n",
      "From the outset I knew that this was going to be a piece of rubbish. The woman in the beginning must have taken lessons in over-acting and come top of her class every time. At one point in a stupendously fake looking party we are told that \"woke is everywhere these days\" - including the hot mess going on behind you dear. Even the extras were dreadful. I don't know what passes for humour these days - something that can be wiped away with a tissue it seems. I couldn't tolerate more than 10 minutes - and even that was a struggle. I don't know what Daniel Craig was thinking of - participating in this career destroying nonsense. Don't suffer - switch off.\n",
      "Predicted with probability: tensor([0.5000], grad_fn=<SigmoidBackward0>)\n"
     ]
    }
   ],
   "source": [
    "\"1/10 Review - https://www.imdb.com/review/rw8760452/?ref_=tt_urv\"\n",
    "glass_onion_review = \"From the outset I knew that this was going to be a piece of rubbish. The woman in the beginning must have taken lessons in over-acting and come top of her class every time. At one point in a stupendously fake looking party we are told that \\\"woke is everywhere these days\\\" - including the hot mess going on behind you dear. Even the extras were dreadful. I don't know what passes for humour these days - something that can be wiped away with a tissue it seems. I couldn't tolerate more than 10 minutes - and even that was a struggle. I don't know what Daniel Craig was thinking of - participating in this career destroying nonsense. Don't suffer - switch off.\"\n",
    "glass_vocab = np.array(features(glass_onion_review))\n",
    "print(\"glass_vocab shape:\", glass_vocab.shape)\n",
    "\n",
    "predicted = model(torch.tensor(glass_vocab,dtype=torch.float32))\n",
    "\n",
    "print(glass_onion_review)\n",
    "print(\"Predicted with probability:\", predicted)"
   ]
  },
  {
   "cell_type": "markdown",
   "metadata": {
    "id": "jdpiYGw3Wkln"
   },
   "source": [
    "What I found interesting, was that the review with 5/10 was actually more likely positive than the one that was 8/10 according to this model, while the 1/10 review could be good or bad. It could be because the reviews aren't long enough or that there are too many features.  "
   ]
  }
 ],
 "metadata": {
  "colab": {
   "provenance": [],
   "toc_visible": true
  },
  "kernelspec": {
   "display_name": "Python 3 (ipykernel)",
   "language": "python",
   "name": "python3"
  },
  "language_info": {
   "codemirror_mode": {
    "name": "ipython",
    "version": 3
   },
   "file_extension": ".py",
   "mimetype": "text/x-python",
   "name": "python",
   "nbconvert_exporter": "python",
   "pygments_lexer": "ipython3",
   "version": "3.9.17"
  }
 },
 "nbformat": 4,
 "nbformat_minor": 1
}
